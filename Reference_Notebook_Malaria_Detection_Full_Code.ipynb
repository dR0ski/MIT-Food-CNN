{
  "nbformat": 4,
  "nbformat_minor": 0,
  "metadata": {
    "colab": {
      "provenance": [],
      "include_colab_link": true
    },
    "kernelspec": {
      "name": "python3",
      "display_name": "Python 3"
    },
    "language_info": {
      "name": "python"
    }
  },
  "cells": [
    {
      "cell_type": "markdown",
      "metadata": {
        "id": "view-in-github",
        "colab_type": "text"
      },
      "source": [
        "<a href=\"https://colab.research.google.com/github/dR0ski/MIT-Food-CNN/blob/main/Reference_Notebook_Malaria_Detection_Full_Code.ipynb\" target=\"_parent\"><img src=\"https://colab.research.google.com/assets/colab-badge.svg\" alt=\"Open In Colab\"/></a>"
      ]
    },
    {
      "cell_type": "markdown",
      "source": [
        "# **Malaria Detection**"
      ],
      "metadata": {
        "id": "xbL3dHCsb6UT"
      }
    },
    {
      "cell_type": "markdown",
      "metadata": {
        "id": "rCiPVBNbA0Wh"
      },
      "source": [
        "# Problem Definition for Malaria Detection Using CNN\n",
        "\n",
        "## Context\n",
        "Malaria is a severe public health issue caused by Plasmodium parasites, transmitted via infected female Anopheles mosquito bites. This disease predominantly affects tropical and subtropical areas and poses significant challenges. Prompt and accurate diagnosis is essential for effective treatment and control, significantly impacting malaria's associated mortality and morbidity.\n",
        "\n",
        "## Objectives\n",
        "The primary objective is to develop a Convolutional Neural Network (CNN) model that can automatically classify microscopic images of red blood cells into two categories: parasitized and uninfected. This deep learning approach aims to improve the speed and accuracy of malaria detection, thus facilitating quicker clinical decision-making and enabling timely and appropriate treatment interventions.\n",
        "\n",
        "## Key Questions\n",
        "1. How can we effectively train a CNN model to classify red blood cells as parasitized or uninfected with high accuracy using the provided image data?\n",
        "2. What are the optimal architectures and hyperparameters for the CNN model suited for this task?\n",
        "3. How can the CNN model be integrated seamlessly into existing healthcare infrastructures to offer real-time diagnostic support?\n",
        "4. What are the expected improvements in diagnosis time and accuracy when using the CNN model compared to traditional diagnostic methods?\n",
        "5. How can the model be adapted and scaled to operate efficiently across different regions, especially where healthcare resources are limited?\n",
        "\n",
        "## Problem Formulation\n",
        "The challenge involves using data science and deep learning to create a predictive CNN model that accurately classifies images of red blood cells as either parasitized or uninfected. This involves:\n",
        "- Preprocessing and augmenting image data to train the CNN effectively.\n",
        "- Experimenting with different CNN architectures to identify the most effective model for recognizing patterns indicative of malaria parasites.\n",
        "- Validating the model's performance through rigorous testing to ensure high sensitivity and specificity.\n",
        "\n",
        "## Impact on Population, Hospitals, and Economy\n",
        "**Population:** Enhanced diagnostic techniques will lead to more effective malaria control, reducing both the prevalence and spread of the disease, improving overall public health outcomes.\n",
        "\n",
        "**Hospitals:** By automating malaria diagnostics, hospitals can manage their resources better and improve patient care efficiency, particularly in high-burden areas.\n",
        "\n",
        "**Economy:** A decrease in malaria prevalence can significantly affect economic stability by reducing disease-induced absenteeism and preserving valuable human resources. Improved health outcomes can further contribute to economic growth and stability.\n",
        "\n",
        "Incorporating a CNN-based approach in malaria diagnostics promises substantial improvements across health, societal, and economic sectors, especially in regions most affected by the disease.\n",
        "\n",
        "## <b>Data Description </b>\n",
        "\n",
        "There are a total of 24,958 train and 2,600 test images (colored) that we have taken from microscopic images. These images are of the following categories:<br>\n",
        "\n",
        "\n",
        "**Parasitized:** The parasitized cells contain the Plasmodium parasite which causes malaria<br>\n",
        "**Uninfected:** The uninfected cells are free of the Plasmodium parasites<br>\n",
        "\n"
      ]
    },
    {
      "cell_type": "markdown",
      "metadata": {
        "id": "HDM89XHyCxrA"
      },
      "source": [
        "###<b> Mount the Drive"
      ]
    },
    {
      "cell_type": "code",
      "source": [
        "#------------------------------------------------------------------------------\n",
        "# Reusable Variables Declarations\n",
        "#------------------------------------------------------------------------------\n",
        "nl = \"\\n\"\n",
        "ln = \"--------------------------------------------------------------------------\"\n",
        "tb = \"\\t\"\n"
      ],
      "metadata": {
        "id": "XomLXB79kidg"
      },
      "execution_count": null,
      "outputs": []
    },
    {
      "cell_type": "code",
      "metadata": {
        "id": "JQi_degJC3dm",
        "colab": {
          "base_uri": "https://localhost:8080/"
        },
        "outputId": "606b81b2-35c4-4afb-ac7c-2d4ae9b69d17"
      },
      "source": [
        "#------------------------------------------------------------------------------\n",
        "# Mounting Google drive / Google.Colab\n",
        "#------------------------------------------------------------------------------\n",
        "print(\"---> Commence Loading Google Drive\")\n",
        "from google.colab import drive\n",
        "drive.mount('/content/drive')\n",
        "print(\"---> Google Drive Mounted Successfully\")"
      ],
      "execution_count": null,
      "outputs": [
        {
          "output_type": "stream",
          "name": "stdout",
          "text": [
            "---> Commence Loading Google Drive\n",
            "Drive already mounted at /content/drive; to attempt to forcibly remount, call drive.mount(\"/content/drive\", force_remount=True).\n",
            "---> Google Drive Mounted Successfully\n"
          ]
        }
      ]
    },
    {
      "cell_type": "code",
      "source": [
        "#------------------------------------------------------------------------------\n",
        "# Store the directory path for the cell_images.zip\n",
        "#------------------------------------------------------------------------------\n",
        "pathZip = '/content/drive/MyDrive/Capstone/cell_images.zip'\n",
        "\n",
        "#------------------------------------------------------------------------------\n",
        "# Store the directory path for the file to be unzipped to\n",
        "#------------------------------------------------------------------------------\n",
        "pathToExtract = '/content/drive/MyDrive/Capstone/'"
      ],
      "metadata": {
        "id": "hGl3_kD5k7E-"
      },
      "execution_count": null,
      "outputs": []
    },
    {
      "cell_type": "markdown",
      "metadata": {
        "id": "UC8-yLUUCcWh"
      },
      "source": [
        "### <b>Loading libraries</b>"
      ]
    },
    {
      "cell_type": "code",
      "source": [
        "# ------------------------------------------------------------------------------\n",
        "# Imports the required data and ML libraries\n",
        "# ------------------------------------------------------------------------------\n",
        "print(f\"{nl}{ln}{nl}> Commence importation of all required data & ML libraries{nl}{ln}{nl}\")\n",
        "import numpy as np\n",
        "import matplotlib.pyplot as plt\n",
        "import os\n",
        "import zipfile\n",
        "import pandas as pd\n",
        "import seaborn as sns\n",
        "import cv2\n",
        "import tensorflow as tf\n",
        "import keras\n",
        "from tensorflow.keras.models import Sequential, Model\n",
        "from tensorflow.keras.layers import Dense, Conv2D, MaxPooling2D, BatchNormalization, Activation, Input, LeakyReLU, Dropout, Flatten\n",
        "from tensorflow.keras import backend\n",
        "from tensorflow.keras.utils import to_categorical\n",
        "from tensorflow.keras.optimizers import Adam, SGD, RMSprop\n",
        "from tensorflow.keras.callbacks import EarlyStopping, ModelCheckpoint\n",
        "from tensorflow.keras import losses, optimizers\n",
        "from tensorflow.keras.preprocessing.image import load_img # opens image file from directory\n",
        "from google.colab.patches import cv2_imshow\n",
        "print(f\"{nl}{ln}{nl}> Python Library Import Completed{nl}{ln}{nl}\")"
      ],
      "metadata": {
        "id": "iixNDZWs1ZPL",
        "colab": {
          "base_uri": "https://localhost:8080/"
        },
        "outputId": "2a8d4d6f-442c-45c1-bc0a-15acb5448795"
      },
      "execution_count": null,
      "outputs": [
        {
          "output_type": "stream",
          "name": "stdout",
          "text": [
            "\n",
            "--------------------------------------------------------------------------\n",
            "> Commence importation of all required data & ML libraries\n",
            "--------------------------------------------------------------------------\n",
            "\n",
            "\n",
            "--------------------------------------------------------------------------\n",
            "> Python Library Import Completed\n",
            "--------------------------------------------------------------------------\n",
            "\n"
          ]
        }
      ]
    },
    {
      "cell_type": "markdown",
      "metadata": {
        "id": "nCqJk2XpCnJi"
      },
      "source": [
        "### <b>Let us load the data</b>"
      ]
    },
    {
      "cell_type": "markdown",
      "metadata": {
        "id": "_syvBdMlDTsr"
      },
      "source": [
        "**Note:**\n",
        "- You must download the dataset from the link provided on Olympus and upload the same to your Google Drive. Then unzip the folder."
      ]
    },
    {
      "cell_type": "code",
      "source": [
        "# Unzips file\n",
        "# ------------------------------------------------------------------------------\n",
        "with zipfile.ZipFile(pathZip, 'r') as zip_ref:\n",
        "    zip_ref.extractall(pathToExtract)"
      ],
      "metadata": {
        "id": "6zVN9EuWnPW2"
      },
      "execution_count": null,
      "outputs": []
    },
    {
      "cell_type": "code",
      "metadata": {
        "id": "ufMU62DICjLV",
        "colab": {
          "base_uri": "https://localhost:8080/"
        },
        "outputId": "f83f3dd0-7034-4ff5-f32d-8bcc176227e9"
      },
      "source": [
        "# ------------------------------------------------------------------------------\n",
        "# LOADING DATA : TRAINING & TESTING DATA SET\n",
        "# ------------------------------------------------------------------------------\n",
        "# Brute force approach for loading data\n",
        "# ------------------------------------------------------------------------------\n",
        "print(f\"{nl}{ln}{nl}> Commence loading of data {nl}{ln}{nl}\")\n",
        "\n",
        "DATADIR = '/content/drive/MyDrive/Capstone/cell_images/train' # Path to training data set\n",
        "DATADIR_test = '/content/drive/MyDrive/Capstone/cell_images/test' # Path to testing data set\n",
        "CATEGORIES = ['parasitized', 'uninfected'] # Folders within the data set under the training folder\n",
        "IMG_SIZE = 150 # Set Image Size, such that our system doesnt run out of memory\n"
      ],
      "execution_count": null,
      "outputs": [
        {
          "output_type": "stream",
          "name": "stdout",
          "text": [
            "\n",
            "--------------------------------------------------------------------------\n",
            "> Commence loading of data \n",
            "--------------------------------------------------------------------------\n",
            "\n"
          ]
        }
      ]
    },
    {
      "cell_type": "markdown",
      "metadata": {
        "id": "IW3fDq7gF4Hw"
      },
      "source": [
        "The extracted folder has different folders for train and test data will contain the different sizes of images for parasitized and uninfected cells within the respective folder name.\n",
        "\n",
        "The size of all images must be the same and should be converted to 4D arrays so that they can be used as an input for the convolutional neural network. Also, we need to create the labels for both types of images to be able to train and test the model.\n",
        "\n",
        "Let's do the same for the training data first and then we will use the same code for the test data as well."
      ]
    },
    {
      "cell_type": "code",
      "metadata": {
        "id": "SjK02uF1DXdW"
      },
      "source": [
        "# ------------------------------------------------------------------------------\n",
        "# LOADING DATA\n",
        "# ------------------------------------------------------------------------------\n",
        "# Brute force approach for loading training data\n",
        "# ------------------------------------------------------------------------------\n",
        "def create_training_data(directory):\n",
        "  print(f\"{nl}{ln}{nl}> Leveraging brute force approach to loading data sets. {nl}{ln}{nl}\")\n",
        "  t_data = []\n",
        "  for category in CATEGORIES:\n",
        "    path = os.path.join(directory, category)\n",
        "    class_num = category\n",
        "\n",
        "    for img in os.listdir(path):\n",
        "      img_array = cv2.imread(os.path.join(path, img)) # Read each image file in the directory that is in focus\n",
        "      new_array = cv2.resize(img_array, (IMG_SIZE, IMG_SIZE)) # Resize each image to 150X150 pixels to save space in memory\n",
        "      t_data.append([new_array, class_num]) # Append the image and it's category to the 'training_data' python list\n",
        "  print(f\"{nl}{ln}{nl}> Data loading & resizing complaeted.{nl}{ln}{nl}\")\n",
        "  return t_data"
      ],
      "execution_count": null,
      "outputs": []
    },
    {
      "cell_type": "code",
      "source": [
        "# ------------------------------------------------------------------------------\n",
        "# LOADING DATA : TRAINING DATA SET\n",
        "# ------------------------------------------------------------------------------\n",
        "training_data = create_training_data(DATADIR)"
      ],
      "metadata": {
        "colab": {
          "base_uri": "https://localhost:8080/"
        },
        "id": "JwqTMFOvul7Q",
        "outputId": "9ec29f38-fb8c-40f1-cc66-a4b52035eaa7"
      },
      "execution_count": null,
      "outputs": [
        {
          "metadata": {
            "tags": null
          },
          "name": "stdout",
          "output_type": "stream",
          "text": [
            "Brute force approach for loading training data\n",
            "--------------------------------------------------------------------------\n",
            "\n"
          ]
        }
      ]
    },
    {
      "cell_type": "code",
      "source": [
        "# ------------------------------------------------------------------------------\n",
        "# LOADING DATA : TESTING DATA SET\n",
        "# ------------------------------------------------------------------------------\n",
        "testing_data = create_training_data(DATADIR_test)"
      ],
      "metadata": {
        "colab": {
          "base_uri": "https://localhost:8080/"
        },
        "id": "zZjLyZrY0WJZ",
        "outputId": "8a298634-7771-4472-8f57-534aba7c710b"
      },
      "execution_count": null,
      "outputs": [
        {
          "output_type": "stream",
          "name": "stdout",
          "text": [
            "\n",
            "--------------------------------------------------------------------------\n",
            "> Leveraging brute force approach to loading data sets. \n",
            "--------------------------------------------------------------------------\n",
            "\n",
            "\n",
            "--------------------------------------------------------------------------\n",
            "> Data loading & resizing complaeted.\n",
            "--------------------------------------------------------------------------\n",
            "\n"
          ]
        }
      ]
    },
    {
      "cell_type": "markdown",
      "metadata": {
        "id": "V_rxFT9iH7pR"
      },
      "source": [
        "###<b> Check the shape of train and test images"
      ]
    },
    {
      "cell_type": "code",
      "source": [
        "# ------------------------------------------------------------------------------\n",
        "# Data Shape : TRAINING DATA SET\n",
        "# ------------------------------------------------------------------------------\n",
        "training_data[0][0].shape"
      ],
      "metadata": {
        "id": "LA8HJmQp1hU5",
        "colab": {
          "base_uri": "https://localhost:8080/"
        },
        "outputId": "c2d84670-ab32-4e9d-f74f-3f36b2476bb6"
      },
      "execution_count": null,
      "outputs": [
        {
          "output_type": "execute_result",
          "data": {
            "text/plain": [
              "(150, 150, 3)"
            ]
          },
          "metadata": {},
          "execution_count": 13
        }
      ]
    },
    {
      "cell_type": "code",
      "source": [
        "# ------------------------------------------------------------------------------\n",
        "# Data Shape : TESTING DATA SET\n",
        "# ------------------------------------------------------------------------------\n",
        "testing_data[0][0].shape"
      ],
      "metadata": {
        "colab": {
          "base_uri": "https://localhost:8080/"
        },
        "id": "kMoR4CSg1gaK",
        "outputId": "135a4c96-794d-4634-aece-e7b8369682e3"
      },
      "execution_count": null,
      "outputs": [
        {
          "output_type": "execute_result",
          "data": {
            "text/plain": [
              "(150, 150, 3)"
            ]
          },
          "metadata": {},
          "execution_count": 14
        }
      ]
    },
    {
      "cell_type": "markdown",
      "metadata": {
        "id": "y3AiiutGIEoy"
      },
      "source": [
        "###<b> Check the shape of train and test labels"
      ]
    },
    {
      "cell_type": "code",
      "source": [
        "# ------------------------------------------------------------------------------\n",
        "# Load Labels : DATA SET AGNOSTIC\n",
        "# ------------------------------------------------------------------------------\n",
        "def loading_labels(data_dir, cat_num):\n",
        "  # ----------------------------------------------------------------------------\n",
        "  # Stores the names of image files into a Python list\n",
        "  # ----------------------------------------------------------------------------\n",
        "  labels = [fn for fn in os.listdir(f\"{data_dir}/{CATEGORIES[cat_num]}\")]\n",
        "  # ----------------------------------------------------------------------------\n",
        "  # Prints the length of list\n",
        "  # ----------------------------------------------------------------------------\n",
        "  print(f\"{nl}{ln}{nl}> List Length: {len(labels)}{nl}{ln}{nl}{nl}\")\n",
        "\n",
        "  # ----------------------------------------------------------------------------\n",
        "  # Loads bread filenames into a numpy array\n",
        "  # Select nine (9) random breads\n",
        "  # ----------------------------------------------------------------------------\n",
        "  load_numpy = np.random.choice(labels, 9, replace=False)\n",
        "  return load_numpy\n"
      ],
      "metadata": {
        "id": "UJ_uvmT61rvx"
      },
      "execution_count": null,
      "outputs": []
    },
    {
      "cell_type": "code",
      "source": [
        "print(f\"{nl}{nl}Paratized Count\")\n",
        "select_train_parasitized = loading_labels(DATADIR, 0)"
      ],
      "metadata": {
        "colab": {
          "base_uri": "https://localhost:8080/",
          "height": 162
        },
        "id": "E0a0NA5e-S6T",
        "outputId": "df58072c-0864-48aa-b8e4-72c8761b965f"
      },
      "execution_count": 6,
      "outputs": [
        {
          "output_type": "error",
          "ename": "NameError",
          "evalue": "name 'nl' is not defined",
          "traceback": [
            "\u001b[0;31m---------------------------------------------------------------------------\u001b[0m",
            "\u001b[0;31mNameError\u001b[0m                                 Traceback (most recent call last)",
            "\u001b[0;32m<ipython-input-6-9b485a52a384>\u001b[0m in \u001b[0;36m<cell line: 1>\u001b[0;34m()\u001b[0m\n\u001b[0;32m----> 1\u001b[0;31m \u001b[0mprint\u001b[0m\u001b[0;34m(\u001b[0m\u001b[0;34mf\"{nl}{nl}Paratized Count\"\u001b[0m\u001b[0;34m)\u001b[0m\u001b[0;34m\u001b[0m\u001b[0;34m\u001b[0m\u001b[0m\n\u001b[0m\u001b[1;32m      2\u001b[0m \u001b[0mselect_train_parasitized\u001b[0m \u001b[0;34m=\u001b[0m \u001b[0mloading_labels\u001b[0m\u001b[0;34m(\u001b[0m\u001b[0mDATADIR\u001b[0m\u001b[0;34m,\u001b[0m \u001b[0;36m0\u001b[0m\u001b[0;34m)\u001b[0m\u001b[0;34m\u001b[0m\u001b[0;34m\u001b[0m\u001b[0m\n",
            "\u001b[0;31mNameError\u001b[0m: name 'nl' is not defined"
          ]
        }
      ]
    },
    {
      "cell_type": "code",
      "source": [
        "print(f\"{nl}{nl}Uninfected Paratized Count\")\n",
        "select_train_uninfected = loading_labels(DATADIR_test, 1)"
      ],
      "metadata": {
        "colab": {
          "base_uri": "https://localhost:8080/"
        },
        "id": "pw8B4j1H-v3S",
        "outputId": "0b641fa1-e15f-4417-fa31-768911f46f34"
      },
      "execution_count": null,
      "outputs": [
        {
          "output_type": "stream",
          "name": "stdout",
          "text": [
            "\n",
            "\n",
            "Uninfected Paratized Count\n",
            "\n",
            "--------------------------------------------------------------------------\n",
            "> List Length: 1300\n",
            "--------------------------------------------------------------------------\n",
            "\n",
            "\n"
          ]
        }
      ]
    },
    {
      "cell_type": "code",
      "source": [
        "# ------------------------------------------------------------------------------\n",
        "# SPLITTING THE DATA SET FUNCTION\n",
        "# ------------------------------------------------------------------------------\n",
        "# Function that takes a numpy array as input\n",
        "# ------------------------------------------------------------------------------\n",
        "\n",
        "def split_data_along_axis(nmpy_data_array):\n",
        "  \"\"\"\n",
        "  Function takes a numpy array that contains imgs and labels\n",
        "  \"\"\"\n",
        "  try:\n",
        "    # Holds values for the x axis from the training data set\n",
        "    x_axis_values = []\n",
        "\n",
        "    # Holds values for the y axis from the training data set\n",
        "    y_axis_values = []\n",
        "\n",
        "    # ------------------------------------------------------------------------------\n",
        "    # Shuffle training data in a numpy array\n",
        "    # ------------------------------------------------------------------------------\n",
        "    np.random.shuffle(nmpy_data_array)\n",
        "\n",
        "    # ------------------------------------------------------------------------------\n",
        "    # Loads images to the x axis & labels to the y axis\n",
        "    # ------------------------------------------------------------------------------\n",
        "\n",
        "    for img, label in nmpy_data_array:\n",
        "      x_axis_values.append(img)\n",
        "      y_axis_values.append(label)\n",
        "\n",
        "    x_axis_values = np.array(x_axis_values)\n",
        "    y_axis_values = np.array(y_axis_values)\n",
        "\n",
        "    return {\"x_axis\": x_axis_values, \"y_axis\": y_axis_values}\n",
        "\n",
        "  except Exception as splitting_error:\n",
        "    print({\"Splitting_Error\": splitting_error})\n"
      ],
      "metadata": {
        "id": "Lyuon1Uv4yqv"
      },
      "execution_count": null,
      "outputs": []
    },
    {
      "cell_type": "code",
      "source": [
        "# ------------------------------------------------------------------------------\n",
        "# SPLITTING THE TRAINING DATA SET\n",
        "# ------------------------------------------------------------------------------\n",
        "t_data = split_data_along_axis(training_data)\n",
        "x_train = t_data[\"x_axis\"]\n",
        "y_train = t_data[\"y_axis\"]\n",
        "\n",
        "print(f\"Training Data X Axis Shape: {x_train.shape}{nl}Training Data Y Axis Shape: {y_train.shape}\")\n"
      ],
      "metadata": {
        "id": "mLv27XDw5ahH"
      },
      "execution_count": null,
      "outputs": []
    },
    {
      "cell_type": "code",
      "source": [
        "# ------------------------------------------------------------------------------\n",
        "# SPLITTING THE TEST DATA SET\n",
        "# ------------------------------------------------------------------------------\n",
        "tst_data = split_data_along_axis(testing_data)\n",
        "x_tst = tst_data[\"x_axis\"]\n",
        "y_tst = tst_data[\"y_axis\"]\n",
        "\n",
        "print(f\"Testing Data X Axis Shape: {x_tst.shape}{nl}Testing Data Y Axis Shape: {y_tst.shape}\")\n"
      ],
      "metadata": {
        "colab": {
          "base_uri": "https://localhost:8080/"
        },
        "id": "XkpSueJpBZG1",
        "outputId": "a5be0f77-e3ee-4f09-a1ae-09c0e9fafd28"
      },
      "execution_count": null,
      "outputs": [
        {
          "output_type": "stream",
          "name": "stdout",
          "text": [
            "Testing Data X Axis Shape: (2600, 150, 150, 3)\n",
            "Testing Data Y Axis Shape: (2600,)\n"
          ]
        }
      ]
    },
    {
      "cell_type": "markdown",
      "metadata": {
        "id": "A3gtgoubINVX"
      },
      "source": [
        "####<b> Observations and insights: _____\n"
      ]
    },
    {
      "cell_type": "markdown",
      "metadata": {
        "id": "ZFUMkif7IjlO"
      },
      "source": [
        "### <b>Check the minimum and maximum range of pixel values for train and test images"
      ]
    },
    {
      "cell_type": "code",
      "metadata": {
        "id": "_gJbhCbMIswX"
      },
      "source": [
        "# ------------------------------------------------------------------------------\n",
        "# Convert the numbers in the Numpy arrays from numbers that are 0-255 to 0 to 1\n",
        "# ------------------------------------------------------------------------------\n",
        "x_train = x_train/255.0"
      ],
      "execution_count": null,
      "outputs": []
    },
    {
      "cell_type": "code",
      "source": [
        "# ------------------------------------------------------------------------------\n",
        "# Convert the numbers in the Numpy arrays from numbers that are 0-255 to 0 to 1\n",
        "# ------------------------------------------------------------------------------\n",
        "x_tst = x_tst/255.0"
      ],
      "metadata": {
        "colab": {
          "base_uri": "https://localhost:8080/",
          "height": 180
        },
        "id": "b0lWv1RMBy2U",
        "outputId": "5046ec77-06e6-4b34-a422-3f833928d1a1"
      },
      "execution_count": null,
      "outputs": [
        {
          "output_type": "error",
          "ename": "NameError",
          "evalue": "name 'x_tst' is not defined",
          "traceback": [
            "\u001b[0;31m---------------------------------------------------------------------------\u001b[0m",
            "\u001b[0;31mNameError\u001b[0m                                 Traceback (most recent call last)",
            "\u001b[0;32m<ipython-input-1-3b0129d203d9>\u001b[0m in \u001b[0;36m<cell line: 4>\u001b[0;34m()\u001b[0m\n\u001b[1;32m      2\u001b[0m \u001b[0;31m# Convert the numbers in the Numpy arrays from numbers that are 0-255 to 0 to 1\u001b[0m\u001b[0;34m\u001b[0m\u001b[0;34m\u001b[0m\u001b[0m\n\u001b[1;32m      3\u001b[0m \u001b[0;31m# ------------------------------------------------------------------------------\u001b[0m\u001b[0;34m\u001b[0m\u001b[0;34m\u001b[0m\u001b[0m\n\u001b[0;32m----> 4\u001b[0;31m \u001b[0mx_tst\u001b[0m \u001b[0;34m=\u001b[0m \u001b[0mx_tst\u001b[0m\u001b[0;34m/\u001b[0m\u001b[0;36m255.0\u001b[0m\u001b[0;34m\u001b[0m\u001b[0;34m\u001b[0m\u001b[0m\n\u001b[0m",
            "\u001b[0;31mNameError\u001b[0m: name 'x_tst' is not defined"
          ]
        }
      ]
    },
    {
      "cell_type": "markdown",
      "metadata": {
        "id": "_T8WWuSpI6Ih"
      },
      "source": [
        "####<b> Observations and insights: _____\n",
        "\n"
      ]
    },
    {
      "cell_type": "markdown",
      "metadata": {
        "id": "ywUFcLSCPIqz"
      },
      "source": [
        "###<b> Count the number of values in both uninfected and parasitized"
      ]
    },
    {
      "cell_type": "code",
      "metadata": {
        "id": "xcEb9liBPRlu"
      },
      "source": [
        "\n"
      ],
      "execution_count": null,
      "outputs": []
    },
    {
      "cell_type": "markdown",
      "metadata": {
        "id": "7U71xb2XJe0t"
      },
      "source": [
        "###<b>Normalize the images"
      ]
    },
    {
      "cell_type": "code",
      "metadata": {
        "id": "HqzvvNS9IvsP"
      },
      "source": [],
      "execution_count": null,
      "outputs": []
    },
    {
      "cell_type": "markdown",
      "metadata": {
        "id": "lAT1eVTrKiDy"
      },
      "source": [
        "####<b> Observations and insights: _____"
      ]
    },
    {
      "cell_type": "markdown",
      "metadata": {
        "id": "NG4meNZBKZ5r"
      },
      "source": [
        "###<b> Plot to check if the data is balanced"
      ]
    },
    {
      "cell_type": "code",
      "metadata": {
        "id": "8N4qohCFIvvI"
      },
      "source": [
        "\n"
      ],
      "execution_count": null,
      "outputs": []
    },
    {
      "cell_type": "markdown",
      "metadata": {
        "id": "rGfRJaffLI-C"
      },
      "source": [
        "####<b> Observations and insights: _____"
      ]
    },
    {
      "cell_type": "markdown",
      "metadata": {
        "id": "16-Er2edMzsD"
      },
      "source": [
        "### <b>Data Exploration</b>\n",
        "Let's visualize the images from the train data"
      ]
    },
    {
      "cell_type": "code",
      "source": [],
      "metadata": {
        "id": "kjhRVQ3-2Pa5"
      },
      "execution_count": null,
      "outputs": []
    },
    {
      "cell_type": "markdown",
      "metadata": {
        "id": "OnyS_9IcCZLp"
      },
      "source": [
        "####<b> Observations and insights: _____"
      ]
    },
    {
      "cell_type": "markdown",
      "metadata": {
        "id": "ay4oo5HrTDha"
      },
      "source": [
        "###<b> Visualize the images with subplot(6, 6) and figsize = (12, 12)"
      ]
    },
    {
      "cell_type": "code",
      "metadata": {
        "id": "tKmncZ-fTAdD"
      },
      "source": [
        "# ------------------------------------------------------------------------------\n",
        "# VISUALIZING DATA: TRAINING DATA SET\n",
        "# ------------------------------------------------------------------------------\n",
        "# Function that takes a numpy array as input\n",
        "# ------------------------------------------------------------------------------\n",
        "def visualize_data_plt_figure(image_category, dir_position_num, data_dir):\n",
        "  \"\"\"\n",
        "  Fucntion takes an input of image_category which is a numpy array\n",
        "  \"\"\"\n",
        "  fig = plt.figure(figsize=(12,12))\n",
        "  for i in range(9):\n",
        "    ax = fig.add_subplot(6,6, i+1)\n",
        "    fp = f'{data_dir}/{CATEGORIES[dir_position_num]}/{image_category[i]}'\n",
        "\n",
        "    fn = load_img(fp, target_size = (150,150))\n",
        "    plt.imshow(fn,)\n",
        "    plt.axis('off')\n",
        "\n",
        "\n",
        "\n"
      ],
      "execution_count": null,
      "outputs": []
    },
    {
      "cell_type": "markdown",
      "metadata": {
        "id": "NTG8UaNNNNso"
      },
      "source": [
        "####<b>Observations and insights:"
      ]
    },
    {
      "cell_type": "markdown",
      "metadata": {
        "id": "ifjZ2G0YN20r"
      },
      "source": [
        "###<b> Plotting the mean images for parasitized and uninfected"
      ]
    },
    {
      "cell_type": "code",
      "metadata": {
        "id": "yN9X0620Iv1a"
      },
      "source": [],
      "execution_count": null,
      "outputs": []
    },
    {
      "cell_type": "markdown",
      "metadata": {
        "id": "mQ4xRQfUOMtm"
      },
      "source": [
        "<b> Mean image for parasitized"
      ]
    },
    {
      "cell_type": "code",
      "source": [],
      "metadata": {
        "id": "SlgCf1-x2gli"
      },
      "execution_count": null,
      "outputs": []
    },
    {
      "cell_type": "markdown",
      "metadata": {
        "id": "BkRt1rYIKE24"
      },
      "source": [
        "<b> Mean image for uninfected"
      ]
    },
    {
      "cell_type": "code",
      "metadata": {
        "id": "Ji4w0okiIv6o"
      },
      "source": [
        "\n",
        "\n",
        "\n"
      ],
      "execution_count": null,
      "outputs": []
    },
    {
      "cell_type": "markdown",
      "metadata": {
        "id": "Lp9NP8yqPA69"
      },
      "source": [
        "####<b> Observations and insights: _____"
      ]
    },
    {
      "cell_type": "markdown",
      "metadata": {
        "id": "XzBagGEzHMHB"
      },
      "source": [
        "### <b>Converting RGB to HSV of Images using OpenCV"
      ]
    },
    {
      "cell_type": "markdown",
      "metadata": {
        "id": "eJFCdE77H1Sg"
      },
      "source": [
        "###<b> Converting the train data"
      ]
    },
    {
      "cell_type": "code",
      "metadata": {
        "id": "32iwgGz7Iv-E"
      },
      "source": [],
      "execution_count": null,
      "outputs": []
    },
    {
      "cell_type": "markdown",
      "metadata": {
        "id": "P9a7cFllH794"
      },
      "source": [
        "###<b> Converting the test data"
      ]
    },
    {
      "cell_type": "code",
      "metadata": {
        "id": "N-kUOULrGpBA"
      },
      "source": [],
      "execution_count": null,
      "outputs": []
    },
    {
      "cell_type": "markdown",
      "metadata": {
        "id": "Xq4_3hv6J3ad"
      },
      "source": [
        "####<b>Observations and insights: _____"
      ]
    },
    {
      "cell_type": "markdown",
      "metadata": {
        "id": "L7x9uDxuJur7"
      },
      "source": [
        "###<b> Processing Images using Gaussian Blurring"
      ]
    },
    {
      "cell_type": "markdown",
      "metadata": {
        "id": "HgkB_-J2KhBQ"
      },
      "source": [
        "###<b> Gaussian Blurring on train data"
      ]
    },
    {
      "cell_type": "code",
      "metadata": {
        "id": "U7GtZThUI6ug"
      },
      "source": [],
      "execution_count": null,
      "outputs": []
    },
    {
      "cell_type": "markdown",
      "metadata": {
        "id": "lTsJkRtCKlYZ"
      },
      "source": [
        "###<b> Gaussian Blurring on test data"
      ]
    },
    {
      "cell_type": "code",
      "metadata": {
        "id": "XbmMGySOKblh"
      },
      "source": [],
      "execution_count": null,
      "outputs": []
    },
    {
      "cell_type": "markdown",
      "metadata": {
        "id": "kkpR8tQFKplr"
      },
      "source": [
        "####**Observations and insights: _____**\n",
        "\n",
        "**Think About It:** Would blurring help us for this problem statement in any way? What else can we try?"
      ]
    },
    {
      "cell_type": "markdown",
      "source": [
        "## **Model Building**"
      ],
      "metadata": {
        "id": "G4Vso75QRcej"
      }
    },
    {
      "cell_type": "markdown",
      "metadata": {
        "id": "G4_ZzqDp8T5w"
      },
      "source": [
        "### **Base Model**\n",
        "\n",
        "**Note:** The Base Model has been fully built and evaluated with all outputs shown to give an idea about the process of the creation and evaluation of the performance of a CNN architecture. A similar process can be followed in iterating to build better-performing CNN architectures."
      ]
    },
    {
      "cell_type": "markdown",
      "metadata": {
        "id": "qTMSr0Xw6x3b"
      },
      "source": [
        "###<b> Importing the required libraries for building and training our Model"
      ]
    },
    {
      "cell_type": "code",
      "metadata": {
        "id": "X8eWxdyDp_ZC"
      },
      "source": [],
      "execution_count": null,
      "outputs": []
    },
    {
      "cell_type": "markdown",
      "metadata": {
        "id": "vtayck2-Pm3G"
      },
      "source": [
        "####<B>One Hot Encoding the train and test labels"
      ]
    },
    {
      "cell_type": "code",
      "execution_count": null,
      "metadata": {
        "id": "xDWl6dVtOMom"
      },
      "outputs": [],
      "source": []
    },
    {
      "cell_type": "markdown",
      "metadata": {
        "id": "fmwb4h0h64Km"
      },
      "source": [
        "###<b> Building the model"
      ]
    },
    {
      "cell_type": "code",
      "source": [
        "#"
      ],
      "metadata": {
        "id": "3LV1Ad_b4_LK"
      },
      "execution_count": null,
      "outputs": []
    },
    {
      "cell_type": "markdown",
      "metadata": {
        "id": "4Sh0OGP268Qm"
      },
      "source": [
        "###<b> Compiling the model"
      ]
    },
    {
      "cell_type": "code",
      "metadata": {
        "id": "fGGRMByKOMyG"
      },
      "source": [],
      "execution_count": null,
      "outputs": []
    },
    {
      "cell_type": "markdown",
      "metadata": {
        "id": "7Dt8lFvz6_K6"
      },
      "source": [
        "<b> Using Callbacks"
      ]
    },
    {
      "cell_type": "code",
      "metadata": {
        "id": "FPwUYX3KOM34"
      },
      "source": [],
      "execution_count": null,
      "outputs": []
    },
    {
      "cell_type": "markdown",
      "metadata": {
        "id": "91af114l7DCt"
      },
      "source": [
        "<b> Fit and train our Model"
      ]
    },
    {
      "cell_type": "code",
      "source": [],
      "metadata": {
        "id": "XysPQsWn5EGq"
      },
      "execution_count": null,
      "outputs": []
    },
    {
      "cell_type": "markdown",
      "metadata": {
        "id": "Vn7bDXku7Ib8"
      },
      "source": [
        "###<b> Evaluating the model on test data"
      ]
    },
    {
      "cell_type": "code",
      "source": [],
      "metadata": {
        "id": "mHbgBrZe5Hqh"
      },
      "execution_count": null,
      "outputs": []
    },
    {
      "cell_type": "markdown",
      "metadata": {
        "id": "sSoNNG_T7PkT"
      },
      "source": [
        "<b> Plotting the confusion matrix"
      ]
    },
    {
      "cell_type": "code",
      "source": [],
      "metadata": {
        "id": "mwY1yx095NN5"
      },
      "execution_count": null,
      "outputs": []
    },
    {
      "cell_type": "markdown",
      "metadata": {
        "id": "eWq4jyPL7f5a"
      },
      "source": [
        "<b>Plotting the train and validation curves"
      ]
    },
    {
      "cell_type": "code",
      "metadata": {
        "id": "U3h5gAwyW05u"
      },
      "source": [],
      "execution_count": null,
      "outputs": []
    },
    {
      "cell_type": "markdown",
      "metadata": {
        "id": "dCDgxiFnXSek"
      },
      "source": [
        "So now let's try to build another model with few more add on layers and try to check if we can try to improve the model. Therefore try to build a model by adding few layers if required and altering the activation functions."
      ]
    },
    {
      "cell_type": "markdown",
      "metadata": {
        "id": "2tJeklwR77rs"
      },
      "source": [
        "###<b> Model 1\n",
        "####<b> Trying to improve the performance of our model by adding new layers\n"
      ]
    },
    {
      "cell_type": "code",
      "source": [],
      "metadata": {
        "id": "J-NnG6Rp9_w7"
      },
      "execution_count": null,
      "outputs": []
    },
    {
      "cell_type": "markdown",
      "metadata": {
        "id": "DT99NdnzZW3n"
      },
      "source": [
        "###<b> Building the Model"
      ]
    },
    {
      "cell_type": "code",
      "metadata": {
        "id": "4TaSet9DONGV"
      },
      "source": [],
      "execution_count": null,
      "outputs": []
    },
    {
      "cell_type": "markdown",
      "metadata": {
        "id": "S6cTCOAVZZpI"
      },
      "source": [
        "###<b> Compiling the model"
      ]
    },
    {
      "cell_type": "code",
      "metadata": {
        "id": "JWcQhKidONIr"
      },
      "source": [],
      "execution_count": null,
      "outputs": []
    },
    {
      "cell_type": "markdown",
      "metadata": {
        "id": "2PSskadUZhUt"
      },
      "source": [
        "<b> Using Callbacks"
      ]
    },
    {
      "cell_type": "code",
      "metadata": {
        "id": "Z4_T2_sKONMA"
      },
      "source": [],
      "execution_count": null,
      "outputs": []
    },
    {
      "cell_type": "markdown",
      "metadata": {
        "id": "VYLgQK9DZkoc"
      },
      "source": [
        "<b>Fit and Train the model"
      ]
    },
    {
      "cell_type": "code",
      "metadata": {
        "id": "O7S7LmVTZjrd"
      },
      "source": [],
      "execution_count": null,
      "outputs": []
    },
    {
      "cell_type": "markdown",
      "metadata": {
        "id": "bHABkGRzZwyt"
      },
      "source": [
        "###<b> Evaluating the model"
      ]
    },
    {
      "cell_type": "code",
      "metadata": {
        "id": "yie1Z-R6Zjt_"
      },
      "source": [],
      "execution_count": null,
      "outputs": []
    },
    {
      "cell_type": "markdown",
      "metadata": {
        "id": "cCJEZ6cqZywk"
      },
      "source": [
        "<b> Plotting the confusion matrix"
      ]
    },
    {
      "cell_type": "code",
      "metadata": {
        "id": "YmuJFfUjZjws"
      },
      "source": [],
      "execution_count": null,
      "outputs": []
    },
    {
      "cell_type": "markdown",
      "metadata": {
        "id": "roDugWeKaVDW"
      },
      "source": [
        "<b> Plotting the train and the validation curves"
      ]
    },
    {
      "cell_type": "code",
      "metadata": {
        "id": "JakeVNnbZjzh"
      },
      "source": [],
      "execution_count": null,
      "outputs": []
    },
    {
      "cell_type": "markdown",
      "metadata": {
        "id": "Zsx7jVjaiO9V"
      },
      "source": [
        "###<b>Think about it:</b><br>\n",
        "Now let's build a model with LeakyRelu as the activation function  \n",
        "\n",
        "*  Can the model performance be improved if we change our activation function to LeakyRelu?\n",
        "*  Can BatchNormalization improve our model?\n",
        "\n",
        "Let us try to build a model using BatchNormalization and using LeakyRelu as our activation function."
      ]
    },
    {
      "cell_type": "markdown",
      "metadata": {
        "id": "JU4qr7amiXds"
      },
      "source": [
        "###<b> Model 2 with Batch Normalization"
      ]
    },
    {
      "cell_type": "code",
      "metadata": {
        "id": "fOXd_ciyZj2n"
      },
      "source": [],
      "execution_count": null,
      "outputs": []
    },
    {
      "cell_type": "markdown",
      "metadata": {
        "id": "1kDMUu-U8vV3"
      },
      "source": [
        "###<b> Building the Model"
      ]
    },
    {
      "cell_type": "code",
      "metadata": {
        "id": "uJBcwhtbiu0l"
      },
      "source": [],
      "execution_count": null,
      "outputs": []
    },
    {
      "cell_type": "markdown",
      "metadata": {
        "id": "t9WQ7-cOLIQy"
      },
      "source": [
        "###<b>Compiling the model"
      ]
    },
    {
      "cell_type": "code",
      "metadata": {
        "id": "6SiRoyZ7LHSL"
      },
      "source": [],
      "execution_count": null,
      "outputs": []
    },
    {
      "cell_type": "markdown",
      "metadata": {
        "id": "XOVzX0WTDUEy"
      },
      "source": [
        "<b> Using callbacks"
      ]
    },
    {
      "cell_type": "code",
      "metadata": {
        "id": "jC0FcITongxx"
      },
      "source": [],
      "execution_count": null,
      "outputs": []
    },
    {
      "cell_type": "markdown",
      "metadata": {
        "id": "Rxj3AcS0Dqm8"
      },
      "source": [
        "<b>Fit and train the model"
      ]
    },
    {
      "cell_type": "code",
      "metadata": {
        "id": "fMy-4IGajL31"
      },
      "source": [],
      "execution_count": null,
      "outputs": []
    },
    {
      "cell_type": "markdown",
      "metadata": {
        "id": "j9DkuwVYDtc3"
      },
      "source": [
        "<b>Plotting the train and validation accuracy"
      ]
    },
    {
      "cell_type": "code",
      "metadata": {
        "id": "ILu-oHB_jxGY"
      },
      "source": [
        "\n"
      ],
      "execution_count": null,
      "outputs": []
    },
    {
      "cell_type": "markdown",
      "metadata": {
        "id": "mSREnGkgDz6N"
      },
      "source": [
        "###<b>Evaluating the model"
      ]
    },
    {
      "cell_type": "code",
      "metadata": {
        "id": "pZGH8gE089Gx"
      },
      "source": [],
      "execution_count": null,
      "outputs": []
    },
    {
      "cell_type": "markdown",
      "metadata": {
        "id": "RiIQnwKaJ27O"
      },
      "source": [
        "####<b>Observations and insights: ____"
      ]
    },
    {
      "cell_type": "markdown",
      "metadata": {
        "id": "YDL1BQZ7_JxS"
      },
      "source": [
        "<b> Generate the classification report and confusion matrix"
      ]
    },
    {
      "cell_type": "code",
      "metadata": {
        "id": "pB-CYdwC9V8P"
      },
      "source": [],
      "execution_count": null,
      "outputs": []
    },
    {
      "cell_type": "markdown",
      "metadata": {
        "id": "aUwBBVzuijlU"
      },
      "source": [
        "###**Think About It :**<br>\n",
        "\n",
        "* Can we improve the model with Image Data Augmentation?\n",
        "* References to image data augmentation can be seen below:\n",
        "  *   [Image Augmentation for Computer Vision](https://www.mygreatlearning.com/blog/understanding-data-augmentation/)\n",
        "  *   [How to Configure Image Data Augmentation in Keras?](https://machinelearningmastery.com/how-to-configure-image-data-augmentation-when-training-deep-learning-neural-networks/)\n",
        "\n",
        "\n",
        "\n"
      ]
    },
    {
      "cell_type": "markdown",
      "metadata": {
        "id": "DYVJZ0Psi0D0"
      },
      "source": [
        "###<b>Model 3 with Data Augmentation"
      ]
    },
    {
      "cell_type": "code",
      "metadata": {
        "id": "1ddfrhcLihpz"
      },
      "source": [],
      "execution_count": null,
      "outputs": []
    },
    {
      "cell_type": "markdown",
      "metadata": {
        "id": "NqOnCq3FZ6JG"
      },
      "source": [
        "###<b> Use image data generator"
      ]
    },
    {
      "cell_type": "code",
      "metadata": {
        "id": "MnvWygv4aAZc"
      },
      "source": [],
      "execution_count": null,
      "outputs": []
    },
    {
      "cell_type": "markdown",
      "metadata": {
        "id": "_2cJN07Bbofx"
      },
      "source": [
        "###**Think About It :**<br>\n",
        "\n",
        "*  Check if the performance of the model can be improved by changing different parameters in the ImageDataGenerator.\n",
        "\n"
      ]
    },
    {
      "cell_type": "markdown",
      "metadata": {
        "id": "341Ilg5McowX"
      },
      "source": [
        "####<B>Visualizing Augmented images"
      ]
    },
    {
      "cell_type": "code",
      "metadata": {
        "id": "Ws3BE91RbFBy"
      },
      "source": [],
      "execution_count": null,
      "outputs": []
    },
    {
      "cell_type": "markdown",
      "metadata": {
        "id": "ZfCMCaAZdK3o"
      },
      "source": [
        "####<b>Observations and insights: ____"
      ]
    },
    {
      "cell_type": "markdown",
      "metadata": {
        "id": "BrpS4Azamjs4"
      },
      "source": [
        "###<b>Building the Model"
      ]
    },
    {
      "cell_type": "code",
      "metadata": {
        "id": "YVELJI8uihsz"
      },
      "source": [],
      "execution_count": null,
      "outputs": []
    },
    {
      "cell_type": "markdown",
      "metadata": {
        "id": "j-HrtTMJnEPl"
      },
      "source": [
        "<b>Using Callbacks"
      ]
    },
    {
      "cell_type": "code",
      "metadata": {
        "id": "xMWPxLvdihvf"
      },
      "source": [],
      "execution_count": null,
      "outputs": []
    },
    {
      "cell_type": "markdown",
      "metadata": {
        "id": "SEeOIRrCnMBh"
      },
      "source": [
        "<b> Fit and Train the model"
      ]
    },
    {
      "cell_type": "code",
      "metadata": {
        "id": "u_2dSGYMihyk"
      },
      "source": [],
      "execution_count": null,
      "outputs": []
    },
    {
      "cell_type": "markdown",
      "metadata": {
        "id": "8EFWVEUKoM1U"
      },
      "source": [
        "###<B>Evaluating the model"
      ]
    },
    {
      "cell_type": "markdown",
      "metadata": {
        "id": "8twGIoxWnrCb"
      },
      "source": [
        "<b>Plot the train and validation accuracy"
      ]
    },
    {
      "cell_type": "code",
      "metadata": {
        "id": "HjB4IecBih2K"
      },
      "source": [],
      "execution_count": null,
      "outputs": []
    },
    {
      "cell_type": "markdown",
      "metadata": {
        "id": "x_VDQxXwoe6u"
      },
      "source": [
        "<B>Plotting the classification report and confusion matrix"
      ]
    },
    {
      "cell_type": "code",
      "metadata": {
        "id": "RxdOpuzJoj8l"
      },
      "source": [],
      "execution_count": null,
      "outputs": []
    },
    {
      "cell_type": "markdown",
      "metadata": {
        "id": "obzJSEF5ypj-"
      },
      "source": [
        "<b> Now, let us try to use a pretrained model like VGG16 and check how it performs on our data."
      ]
    },
    {
      "cell_type": "markdown",
      "metadata": {
        "id": "ra-GUCjbLHGg"
      },
      "source": [
        "### **Pre-trained model (VGG16)**\n",
        "- Import VGG16 network upto any layer you choose\n",
        "- Add Fully Connected Layers on top of it"
      ]
    },
    {
      "cell_type": "code",
      "metadata": {
        "id": "5dH2_XWNLyac"
      },
      "source": [],
      "execution_count": null,
      "outputs": []
    },
    {
      "cell_type": "markdown",
      "metadata": {
        "id": "Mhoug92KFWPa"
      },
      "source": [
        "###<b>Compiling the model"
      ]
    },
    {
      "cell_type": "code",
      "metadata": {
        "id": "CdJ8C0L5Lkyt"
      },
      "source": [],
      "execution_count": null,
      "outputs": []
    },
    {
      "cell_type": "markdown",
      "metadata": {
        "id": "rBPzjtxcFLQt"
      },
      "source": [
        "<b> using callbacks"
      ]
    },
    {
      "cell_type": "code",
      "metadata": {
        "id": "qS3skmQBR4if"
      },
      "source": [],
      "execution_count": null,
      "outputs": []
    },
    {
      "cell_type": "markdown",
      "metadata": {
        "id": "4_ZeobGmFIOF"
      },
      "source": [
        "<b>Fit and Train the model"
      ]
    },
    {
      "cell_type": "code",
      "metadata": {
        "id": "V6sSx39uL1mS"
      },
      "source": [],
      "execution_count": null,
      "outputs": []
    },
    {
      "cell_type": "markdown",
      "metadata": {
        "id": "O0WI9dvDFBaR"
      },
      "source": [
        "<b>Plot the train and validation accuracy"
      ]
    },
    {
      "cell_type": "code",
      "metadata": {
        "id": "mKmS2XyiMBqb"
      },
      "source": [],
      "execution_count": null,
      "outputs": []
    },
    {
      "cell_type": "markdown",
      "metadata": {
        "id": "mb3jUduI0BNs"
      },
      "source": [
        "###**Observations and insights: _____**\n",
        "\n",
        "*   What can be observed from the validation and train curves?"
      ]
    },
    {
      "cell_type": "markdown",
      "metadata": {
        "id": "Ykl7xLODEoix"
      },
      "source": [
        "###<b> Evaluating the model"
      ]
    },
    {
      "cell_type": "code",
      "metadata": {
        "id": "RxcgkSoivwWf"
      },
      "source": [
        "\n"
      ],
      "execution_count": null,
      "outputs": []
    },
    {
      "cell_type": "markdown",
      "metadata": {
        "id": "r_lr-dUHE77F"
      },
      "source": [
        "<b>Plotting the classification report and confusion matrix"
      ]
    },
    {
      "cell_type": "code",
      "metadata": {
        "id": "jns2wf2HMBto"
      },
      "source": [],
      "execution_count": null,
      "outputs": []
    },
    {
      "cell_type": "markdown",
      "metadata": {
        "id": "MEZPA_mN0tUo"
      },
      "source": [
        "###<b>Think about it:</b>\n",
        "*  What observations and insights can be drawn from the confusion matrix and classification report?\n",
        "*  Choose the model with the best accuracy scores from all the above models and save it as a final model.\n"
      ]
    },
    {
      "cell_type": "markdown",
      "metadata": {
        "id": "Smzi8y5AEYIi"
      },
      "source": [
        "####<b> Observations and Conclusions drawn from the final model: _____\n",
        "\n"
      ]
    },
    {
      "cell_type": "markdown",
      "metadata": {
        "id": "yo6IpgOZ1n-g"
      },
      "source": [
        "**Improvements that can be done:**<br>\n",
        "\n",
        "\n",
        "*  Can the model performance be improved using other pre-trained models or different CNN architecture?\n",
        "*  You can try to build a model using these HSV images and compare them with your other models."
      ]
    },
    {
      "cell_type": "markdown",
      "metadata": {
        "id": "mJB6yf2EczFk"
      },
      "source": [
        "#### **Insights**\n",
        "\n",
        "####**Refined insights**:\n",
        "- What are the most meaningful insights from the data relevant to the problem?\n",
        "\n",
        "####**Comparison of various techniques and their relative performance**:\n",
        "- How do different techniques perform? Which one is performing relatively better? Is there scope to improve the performance further?\n",
        "\n",
        "####**Proposal for the final solution design**:\n",
        "- What model do you propose to be adopted? Why is this the best solution to adopt?"
      ]
    }
  ]
}